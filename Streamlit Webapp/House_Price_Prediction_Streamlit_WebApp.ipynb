{
  "cells": [
    {
      "cell_type": "code",
      "execution_count": null,
      "metadata": {
        "colab": {
          "background_save": true,
          "base_uri": "https://localhost:8080/"
        },
        "id": "QPkkTOF33hBV",
        "outputId": "355e2d1c-72fe-4543-edb9-8c4166eafac2"
      },
      "outputs": [
        {
          "name": "stdout",
          "output_type": "stream",
          "text": [
            "\u001b[2K   \u001b[90m━━━━━━━━━━━━━━━━━━━━━━━━━━━━━━━━━━━━━━━━\u001b[0m \u001b[32m10.0/10.0 MB\u001b[0m \u001b[31m29.1 MB/s\u001b[0m eta \u001b[36m0:00:00\u001b[0m\n",
            "\u001b[2K   \u001b[90m━━━━━━━━━━━━━━━━━━━━━━━━━━━━━━━━━━━━━━━━\u001b[0m \u001b[32m6.9/6.9 MB\u001b[0m \u001b[31m37.7 MB/s\u001b[0m eta \u001b[36m0:00:00\u001b[0m\n",
            "\u001b[?25h"
          ]
        },
        {
          "name": "stderr",
          "output_type": "stream",
          "text": [
            "Downloading...\n",
            "From: https://drive.google.com/uc?id=15mXWQM1vdYQoCM1oUCT2tQloA0T1Uayc\n",
            "To: /content/artifacts/random_forest_base.pkl\n",
            "100%|██████████| 69.4M/69.4M [00:00<00:00, 154MB/s]\n",
            "Downloading...\n",
            "From: https://drive.google.com/uc?id=1byDkPrAWp_6bFRheS9o-uMyKdK0JtXuQ\n",
            "To: /content/artifacts/columns.json\n",
            "100%|██████████| 4.07k/4.07k [00:00<00:00, 12.6MB/s]"
          ]
        },
        {
          "name": "stdout",
          "output_type": "stream",
          "text": [
            "Downloading ngrok ...\r"
          ]
        },
        {
          "name": "stderr",
          "output_type": "stream",
          "text": [
            "\n"
          ]
        },
        {
          "name": "stdout",
          "output_type": "stream",
          "text": [
            "🌍 Public URL (share with recruiters): NgrokTunnel: \"https://6c20d8e2c9d4.ngrok-free.app\" -> \"http://localhost:8501\"\n",
            "\n",
            "Collecting usage statistics. To deactivate, set browser.gatherUsageStats to false.\n",
            "\u001b[0m\n",
            "\u001b[0m\n",
            "\u001b[34m\u001b[1m  You can now view your Streamlit app in your browser.\u001b[0m\n",
            "\u001b[0m\n",
            "\u001b[34m  Local URL: \u001b[0m\u001b[1mhttp://localhost:8501\u001b[0m\n",
            "\u001b[34m  Network URL: \u001b[0m\u001b[1mhttp://172.28.0.12:8501\u001b[0m\n",
            "\u001b[34m  External URL: \u001b[0m\u001b[1mhttp://34.148.76.43:8501\u001b[0m\n",
            "\u001b[0m\n",
            "/usr/local/lib/python3.12/dist-packages/sklearn/utils/validation.py:2739: UserWarning: X does not have valid feature names, but RandomForestRegressor was fitted with feature names\n",
            "  warnings.warn(\n",
            "/usr/local/lib/python3.12/dist-packages/sklearn/utils/validation.py:2739: UserWarning: X does not have valid feature names, but RandomForestRegressor was fitted with feature names\n",
            "  warnings.warn(\n"
          ]
        }
      ],
      "source": [
        "!pip install streamlit pyngrok flask-cors gdown -q\n",
        "\n",
        "# 🔑 Paste your ngrok authtoken here (get one free: https://dashboard.ngrok.com/get-started/your-authtoken)\n",
        "NGROK_AUTH_TOKEN = \"32pdo47nOUrEhMkM3qkBKiH3cR1_5HAoYmPj6zfA5t4Km1JKG\"\n",
        "\n",
        "import gdown, os\n",
        "from pyngrok import ngrok, conf\n",
        "\n",
        "# Apply ngrok auth\n",
        "conf.get_default().auth_token = NGROK_AUTH_TOKEN\n",
        "\n",
        "# Make artifacts folder\n",
        "os.makedirs(\"artifacts\", exist_ok=True)\n",
        "\n",
        "# Download model + columns.json from Google Drive\n",
        "model_file_id = \"15mXWQM1vdYQoCM1oUCT2tQloA0T1Uayc\"       # random_forest_base.pkl\n",
        "columns_file_id = \"1byDkPrAWp_6bFRheS9o-uMyKdK0JtXuQ\"     # columns.json\n",
        "\n",
        "gdown.download(f\"https://drive.google.com/uc?id={model_file_id}\", \"artifacts/random_forest_base.pkl\", quiet=False)\n",
        "gdown.download(f\"https://drive.google.com/uc?id={columns_file_id}\", \"artifacts/columns.json\", quiet=False)\n",
        "\n",
        "# util.py\n",
        "util_code = \"\"\"\n",
        "import pickle\n",
        "import json\n",
        "import numpy as np\n",
        "\n",
        "__locations = None\n",
        "__data_columns = None\n",
        "__model = None\n",
        "\n",
        "def get_estimated_price(location, bath, balcony, bhk, total_sqft_cleaned):\n",
        "    try:\n",
        "        loc_index = __data_columns.index(location.lower())\n",
        "    except:\n",
        "        loc_index = -1\n",
        "\n",
        "    room_size_avg = total_sqft_cleaned / bhk if bhk > 0 else 0\n",
        "    price_per_sqft = total_sqft_cleaned / bhk if bhk > 0 else 0\n",
        "\n",
        "    x = np.zeros(len(__data_columns))\n",
        "    x[0] = bath\n",
        "    x[1] = balcony\n",
        "    x[2] = bhk\n",
        "    x[3] = total_sqft_cleaned\n",
        "    x[4] = price_per_sqft\n",
        "    x[5] = room_size_avg\n",
        "\n",
        "    if loc_index >= 0:\n",
        "        x[loc_index] = 1\n",
        "\n",
        "    return round(__model.predict([x])[0], 2)\n",
        "\n",
        "def load_saved_artifacts():\n",
        "    global __data_columns, __locations, __model\n",
        "    with open(\"./artifacts/columns.json\", \"r\") as f:\n",
        "        __data_columns = json.load(f)[\"data_columns\"]\n",
        "        __locations = __data_columns[6:]\n",
        "\n",
        "    if __model is None:\n",
        "        with open(\"./artifacts/random_forest_base.pkl\", \"rb\") as f:\n",
        "            __model = pickle.load(f)\n",
        "\n",
        "def get_location_names():\n",
        "    return __locations\n",
        "\n",
        "def get_data_columns():\n",
        "    return __data_columns\n",
        "\"\"\"\n",
        "with open(\"util.py\", \"w\") as f:\n",
        "    f.write(util_code)\n",
        "\n",
        "# app.py\n",
        "app_code = \"\"\"\n",
        "import streamlit as st\n",
        "import util\n",
        "\n",
        "util.load_saved_artifacts()\n",
        "st.set_page_config(page_title=\"House Price Prediction\", layout=\"centered\")\n",
        "\n",
        "st.title(\"🏠 House Price Prediction App\")\n",
        "\n",
        "location = st.selectbox(\"Select Location\", util.get_location_names())\n",
        "bath = st.number_input(\"Number of Bathrooms (bath)\", min_value=1, step=1)\n",
        "balcony = st.number_input(\"Number of Balconies\", min_value=0, step=1)\n",
        "bhk = st.number_input(\"BHK (Bedrooms)\", min_value=1, step=1)\n",
        "total_sqft = st.number_input(\"Total Sqft Cleaned\", min_value=100.0, step=10.0)\n",
        "\n",
        "if st.button(\"Predict Price\"):\n",
        "    if bhk > 0 and total_sqft > 0:\n",
        "        price = util.get_estimated_price(location, bath, balcony, bhk, total_sqft)\n",
        "        st.success(f\"💰 Estimated Price: ₹ {price:,.2f}\")\n",
        "    else:\n",
        "        st.error(\"❌ Invalid input: Sqft and BHK must be greater than 0.\")\n",
        "\"\"\"\n",
        "with open(\"app.py\", \"w\") as f:\n",
        "    f.write(app_code)\n",
        "\n",
        "# Expose Streamlit app\n",
        "public_url = ngrok.connect(8501)\n",
        "print(\"🌍 Public URL (share with recruiters):\", public_url)\n",
        "\n",
        "!streamlit run app.py --server.port 8501 --server.headless true\n"
      ]
    }
  ],
  "metadata": {
    "colab": {
      "provenance": []
    },
    "kernelspec": {
      "display_name": "Python 3",
      "name": "python3"
    },
    "language_info": {
      "name": "python"
    }
  },
  "nbformat": 4,
  "nbformat_minor": 0
}